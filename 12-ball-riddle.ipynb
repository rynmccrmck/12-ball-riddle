{
 "metadata": {
  "name": "",
  "signature": "sha256:d23d589b57043be49aed94eea5475eb9ea258956ae2c3bee065e296d80b70f8f"
 },
 "nbformat": 3,
 "nbformat_minor": 0,
 "worksheets": [
  {
   "cells": [
    {
     "cell_type": "heading",
     "level": 1,
     "metadata": {},
     "source": [
      "Sameer Riddle #1"
     ]
    },
    {
     "cell_type": "markdown",
     "metadata": {},
     "source": [
      "You have 12 balls, all of which have the same weight but one.  The defect could be either too light or two heavy, but the difference is too small to determine by hand.\n",
      "\n",
      "Using a balance scale at most three times, you need to identify the defect and whether it is too light or too heavy."
     ]
    },
    {
     "cell_type": "code",
     "collapsed": false,
     "input": [
      "#The setup\n",
      "import random\n",
      "import sys\n",
      "balls = [x for x in range(12)]\n",
      "weights = [1 for x in range(11)]\n",
      "defect = 0\n",
      "jnd = 0.05 #http://en.wikipedia.org/wiki/Weber%E2%80%93Fechner_law\n",
      "e = sys.float_info.epsilon\n",
      "val = jnd - e\n",
      "while defect == 0: defect = (1 + random.uniform(-val,val))\n",
      "weights.append(defect)\n",
      "a = dict(zip(balls, weights))\n",
      "keys = a.keys()\n",
      "random.shuffle(keys)\n",
      "b = dict(zip(keys, a.values()))"
     ],
     "language": "python",
     "metadata": {},
     "outputs": [],
     "prompt_number": 21
    },
    {
     "cell_type": "code",
     "collapsed": false,
     "input": [
      "# dataframe for recording results\n",
      "import pandas as pd\n",
      "import numpy as np\n",
      "ball_data = pd.DataFrame(index = [k for k,v in sorted(b.iteritems())], columns = ['t1','t2','t3','res'])\n",
      "print ball_data"
     ],
     "language": "python",
     "metadata": {},
     "outputs": [
      {
       "output_type": "stream",
       "stream": "stdout",
       "text": [
        "     t1   t2   t3  res\n",
        "0   NaN  NaN  NaN  NaN\n",
        "1   NaN  NaN  NaN  NaN\n",
        "2   NaN  NaN  NaN  NaN\n",
        "3   NaN  NaN  NaN  NaN\n",
        "4   NaN  NaN  NaN  NaN\n",
        "5   NaN  NaN  NaN  NaN\n",
        "6   NaN  NaN  NaN  NaN\n",
        "7   NaN  NaN  NaN  NaN\n",
        "8   NaN  NaN  NaN  NaN\n",
        "9   NaN  NaN  NaN  NaN\n",
        "10  NaN  NaN  NaN  NaN\n",
        "11  NaN  NaN  NaN  NaN\n"
       ]
      }
     ],
     "prompt_number": 22
    },
    {
     "cell_type": "code",
     "collapsed": false,
     "input": [
      "#scale can tell us either both sides equal, left-side higher or right-side higher\n",
      "\n",
      "def counted(fn):\n",
      "    def wrapper(*args, **kwargs):\n",
      "        wrapper.called+= 1\n",
      "        return fn(*args, **kwargs)\n",
      "    wrapper.called= 0\n",
      "    wrapper.__name__= fn.__name__\n",
      "    return wrapper\n",
      "\n",
      "@counted\n",
      "def scale(leftside, rightside):\n",
      "    group1 = float(sum(leftside.values()))\n",
      "    group2 = float(sum(rightside.values()))\n",
      "    if group1 == group2:\n",
      "        ball_data.loc[reduce(lambda x,y: x+y,[leftside.keys(),rightside.keys()]),['t'+str(scale.called)]] = 0\n",
      "    elif group1 > group2:\n",
      "        ball_data['t'+str(scale.called)] = 0\n",
      "        ball_data.loc[leftside.keys(),['t'+str(scale.called)]] = +1\n",
      "        ball_data.loc[rightside.keys(),['t'+str(scale.called)]] = -1\n",
      "    else:\n",
      "        ball_data['t'+str(scale.called)] = 0\n",
      "        ball_data.loc[leftside.keys(),['t'+str(scale.called)]] = -1\n",
      "        ball_data.loc[rightside.keys(),['t'+str(scale.called)]] = +1   "
     ],
     "language": "python",
     "metadata": {},
     "outputs": [],
     "prompt_number": 23
    },
    {
     "cell_type": "code",
     "collapsed": false,
     "input": [
      "#steps\n",
      "\n",
      "a1 = {k:b[k] for k in ball_data[:4].index}\n",
      "b1 = {k:b[k] for k in ball_data[-4:].index}\n",
      "scale(a1,b1)\n",
      "ball_data.loc[((ball_data==0).any(axis=1) ) ] =0\n",
      " \n",
      "if len(ball_data[ball_data.res.isnull()]) <=4:\n",
      "    a2 = {k:b[k] for k in ball_data[ball_data.res.isnull()][:3].index}\n",
      "    b2 = {k:b[k] for k in ball_data[~ball_data.res.isnull()][:3].index}\n",
      "else:\n",
      "    low = ball_data[ball_data.t1 < 0]\n",
      "    high = ball_data[ball_data.t1 > 0]\n",
      "    shuf1 = reduce(lambda x,y: x+y,[low[:2].index.tolist(),high[-1:].index.tolist()])\n",
      "    shuf2 = reduce(lambda x,y: x+y,[high[:1].index.tolist(),low[-2:].index.tolist()])\n",
      "    a2 = {k:b[k] for k in shuf1}\n",
      "    b2 = {k:b[k] for k in shuf2}\n",
      "scale(a2,b2)\n",
      "ball_data.loc[((ball_data==0).any(axis=1) ) | (ball_data.sum(axis=1) == 0),'res'] =0\n",
      "\n",
      "if len(ball_data[ball_data.res.isnull()]) ==3 and len(ball_data[ball_data.t1 == 0]) ==8:\n",
      "    a3 = {k:b[k] for k in ball_data[ball_data.res.isnull()][:1].index}\n",
      "    b3 = {k:b[k] for k in ball_data[ball_data.res.isnull()][-1:].index}\n",
      "elif len(ball_data[ball_data.res.isnull()]) ==4:\n",
      "    low2 = ball_data[(ball_data.t2 < 0) & (ball_data.res.isnull())]\n",
      "    high2 = ball_data[(ball_data.t2 > 0) & (ball_data.res.isnull())]\n",
      "    shuf12 = reduce(lambda x,y: x+y,[low2[:2].index.tolist(),high2[-1:].index.tolist()])\n",
      "    shuf22 = reduce(lambda x,y: x+y,[high2[:1].index.tolist(),low2[-2:].index.tolist()])\n",
      "    a3 = {k:b[k] for k in shuf12}\n",
      "    b3 = {k:b[k] for k in shuf22}\n",
      "elif len(ball_data[ball_data.res.isnull()]) ==3:\n",
      "    shuf3 = reduce(lambda x,y: x+y,[ball_data[ball_data.res.isnull()][:1].index.tolist(),ball_data[ball_data.res.isnull()][-1:].index.tolist()])\n",
      "    a3 = {k:b[k] for k in shuf3}\n",
      "    b3 = {k:b[k] for k in ball_data[~ball_data.res.isnull()][-2:].index}\n",
      "else:\n",
      "    a3 = {k:b[k] for k in ball_data[ball_data.res.isnull()][:1].index}\n",
      "    b3 = {k:b[k] for k in ball_data[~ball_data.res.isnull()][-1:].index}\n",
      "scale(a3,b3)\n",
      "ball_data.loc[((ball_data==0).any(axis=1) ) | (ball_data.sum(axis=1) == 0) | (ball_data.t1 + ball_data.t2 == 0) | (ball_data.t2 + ball_data.t3 == 0),'res'] =0\n",
      "\n",
      "defect = str(ball_data[ball_data.res.isnull()].index.values[0])\n",
      "defect_type = \"heavy\" if ball_data[ball_data.res.isnull()].sum(axis=1).values[0] > 0 else \"light\"\n",
      "print \"Defect is ball # %s.\\nIt is too %s.\\nNumber of scale tests: %s.\" %(defect,defect_type,scale.called)"
     ],
     "language": "python",
     "metadata": {},
     "outputs": [
      {
       "output_type": "stream",
       "stream": "stdout",
       "text": [
        "Defect is ball # 7.\n",
        "It is too light.\n",
        "Number of scale tests: 3.\n"
       ]
      }
     ],
     "prompt_number": 24
    },
    {
     "cell_type": "code",
     "collapsed": false,
     "input": [
      "print b"
     ],
     "language": "python",
     "metadata": {},
     "outputs": [
      {
       "output_type": "stream",
       "stream": "stdout",
       "text": [
        "{0: 1, 1: 1, 2: 1, 3: 1, 4: 1, 5: 1, 6: 1, 7: 0.99284849055394, 8: 1, 9: 1, 10: 1, 11: 1}\n"
       ]
      }
     ],
     "prompt_number": 25
    },
    {
     "cell_type": "code",
     "collapsed": false,
     "input": [],
     "language": "python",
     "metadata": {},
     "outputs": [],
     "prompt_number": 20
    },
    {
     "cell_type": "code",
     "collapsed": false,
     "input": [
      "%ls"
     ],
     "language": "python",
     "metadata": {},
     "outputs": [
      {
       "output_type": "stream",
       "stream": "stdout",
       "text": [
        "1.png                                ecbandit.pyc                                                                                 logo.jpg                           sarim_test_bsegs.json\r\n",
        "2.png                                ectest.py                                                                                    logo.png                           sarim_test.json\r\n",
        "3.png                                \u001b[0m\u001b[01;32med_status.py\u001b[0m*                                                                                logo.png.1                         singtao.csv\r\n",
        "4.png                                example2.txt                                                                                 logo_test.jpg                      \u001b[01;34msparkit\u001b[0m/\r\n",
        "5.png                                foo0.png                                                                                     mainLogo.jpg                       \u001b[01;34msparkit-learn-master\u001b[0m/\r\n",
        "\u001b[01;34madhoc_reports\u001b[0m/                       fraud_dom                                                                                    mainLogo.png                       sparkit-learn-master.zip\r\n",
        "adservers                            fraud_domains                                                                                master.zip                         sponsor-eyereturn.gif\r\n",
        "adult_list.csv                       ftrl.csv                                                                                     mec_product_pages_notall           sponsor-eyereturn.jpg\r\n",
        "anime.csv                            GeoIP2-City.mmdb                                                                             mec_product_pages_notall_backup    \u001b[01;32mstupidd\u001b[0m*\r\n",
        "atlas_19669.csv                      GeoIP2-ISP.mmdb                                                                              mec_product_similar                tactic_bandit.html\r\n",
        "audit3                               get-pip.py                                                                                   mec_test                           tactic_bandit.md\r\n",
        "babycenter_june                      get-pip.py.1                                                                                 mec_test_cart                      tacticPacingReport.xls\r\n",
        "\u001b[01;34mbasemap-1.0.7\u001b[0m/                       ghostdriver.log                                                                              mec_top_rank                       tacticPacingReport.xlsx\r\n",
        "bid_vectorizer3.joblib               granular                                                                                     \u001b[01;34mmedline_data\u001b[0m/                      tasks.py\r\n",
        "bid_vectorizer.joblib                \u001b[01;32mgraphite_anom.sh\u001b[0m*                                                                            \u001b[01;34mML\u001b[0m/                                tasks.pyc\r\n",
        "big_test_april                       graphit.py                                                                                   mylikes_urls                       test\r\n",
        "big_test_june0                       \u001b[01;34mhadoop-2.7.1\u001b[0m/                                                                                \u001b[01;34mmyModelPath\u001b[0m/                       test2\r\n",
        "big_test_token                       hadoop-2.7.1.tar.gz                                                                          nearest_network.png                test_bandit\r\n",
        "budget_alert.csv                     HelloWorld.class                                                                             network_domains_final              test_budget.csv\r\n",
        "budget_group_job.py                  HelloWorld$.class                                                                            network_domainsjuly                test_budget.py\r\n",
        "cacert.pem                           helloworld.scala                                                                             nick_latlong.csv                   test_ctr\r\n",
        "\u001b[01;34mcache_rand\u001b[0m/                          high_view_domains.csv                                                                        nick_latlong_fixed.csv             test_data\r\n",
        "cadreon.xlsx                         ian_list.csv                                                                                 nick_latlong_grouped.csv           test.data\r\n",
        "capp_token_mixup.csv                 ian_test                                                                                     o2_verify.py                       test_data2\r\n",
        "capp_token_mixup_may28.tsv           ian_test2                                                                                    \u001b[01;32mo2_verify.sh\u001b[0m*                      test_data_er\r\n",
        "capp_token_mixup.tsv                 imp_graphite.py                                                                              out-correct.json.list              test_may.csv\r\n",
        "chess_masters_WCC.pgn.bz2            imp_test                                                                                     \u001b[01;32mpacing_report.py\u001b[0m*                  test.pdf\r\n",
        "chess.txt                            \u001b[01;34mipython_docs\u001b[0m/                                                                                parse.py                           test.png\r\n",
        "\u001b[01;34mchrome_ext\u001b[0m/                          iris_train.csv                                                                               \u001b[01;32mphant_kill.sh\u001b[0m*                     test_time\r\n",
        "\u001b[01;34mclassifier4\u001b[0m/                         IScala-0.1.tgz                                                                               \u001b[01;34mphantomjs\u001b[0m/                         tokenbydayharvey.csv\r\n",
        "\u001b[01;34mclass_multi\u001b[0m/                         json_clicks                                                                                  product_data                       top_300_eyedemand_bid_domains\r\n",
        "click2                               json_viewed                                                                                  \u001b[01;34mproto\u001b[0m/                             torstar_auto_domains.csv\r\n",
        "click_change_test.csv                \u001b[01;34mlibpng-1.6.17\u001b[0m/                                                                               \u001b[01;34mprotobuf-3.0.0-alpha-3\u001b[0m/            t.py\r\n",
        "click_data_mis                       libpng-1.6.17.tar.xz                                                                         \u001b[01;34mprotobuf-master\u001b[0m/                   train1.csv\r\n",
        "click_redirect_help_eyecontrol.html  libpng-1.6.17.tar.xz?r=http:%2F%2Fsourceforge.net%2Fprojects%2Flibpng%2Ffiles%2Flibpng15%2F  protobuf-python-3.0.0-alpha-3.zip  ua_dist_test\r\n",
        "click_test.pig                       \u001b[01;34mlightning\u001b[0m/                                                                                   proto_test                         uasparser2_0.3_2.7.10_cache.pickle\r\n",
        "cpax_domains                         logistic_model3.pkl                                                                          \u001b[01;34mpubsub_bids\u001b[0m/                       uncrate_date_imps.jpg\r\n",
        "cpax_test                            logistic_model3.pkl_01.npy                                                                   qa_budgets                         uncrate_date_imps.png\r\n",
        "cpax_test2                           logistic_model3.pkl_02.npy                                                                   \u001b[01;34mR\u001b[0m/                                 uncrate_network_extended.jpg\r\n",
        "crossdevice.pig                      logistic_model3.pkl_03.npy                                                                   \u001b[01;34mrecomec\u001b[0m/                           uncrate_network_extended.png\r\n",
        "damnit.csv                           logistic_model3.pkl_04.npy                                                                   \u001b[01;34mredis_pubsub\u001b[0m/                      uncrate_network.jpg\r\n",
        "datacentre.txt                       logistic_model3.pkl_05.npy                                                                   refresh.js                         uncrate_network.png\r\n",
        "\u001b[01;34mdict-to-protobuf-master\u001b[0m/             logistic_model.pkl                                                                           renee_cpm.csv                      \u001b[01;34mvw\u001b[0m/\r\n",
        "domain_list                          logistic_model.pkl_01.npy                                                                    renee_cpm_vertical.csv             wABOKOVF.jpeg\r\n",
        "domains_to_block                     logistic_model.pkl_02.npy                                                                    \u001b[01;34mreportlab-3.2.0\u001b[0m/                   whois.py\r\n",
        "\u001b[01;34mdomain_verify\u001b[0m/                       logistic_model.pkl_03.npy                                                                    reportlab-3.2.0.tar.gz             www.pornhub.com.png\r\n",
        "ecbandit2.py                         logistic_model.pkl_04.npy                                                                    reportlab-3.2.0.tar.gz.1           www.redtube.com.png\r\n",
        "ecbandit.py                          logistic_model.pkl_05.npy                                                                    sameer_LR\r\n"
       ]
      }
     ],
     "prompt_number": 1
    },
    {
     "cell_type": "code",
     "collapsed": false,
     "input": [],
     "language": "python",
     "metadata": {},
     "outputs": []
    }
   ],
   "metadata": {}
  }
 ]
}