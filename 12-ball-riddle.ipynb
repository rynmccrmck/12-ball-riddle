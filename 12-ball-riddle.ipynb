{
 "metadata": {
  "name": "",
  "signature": "sha256:d23d589b57043be49aed94eea5475eb9ea258956ae2c3bee065e296d80b70f8f"
 },
 "nbformat": 3,
 "nbformat_minor": 0,
 "worksheets": [
  {
   "cells": [
    {
     "cell_type": "heading",
     "level": 1,
     "metadata": {},
     "source": [
      "Sameer Riddle #1"
     ]
    },
    {
     "cell_type": "markdown",
     "metadata": {},
     "source": [
      "You have 12 balls, all of which have the same weight but one.  The defect could be either too light or two heavy, but the difference is too small to determine by hand.\n",
      "\n",
      "Using a balance scale at most three times, you need to identify the defect and whether it is too light or too heavy."
     ]
    },
    {
     "cell_type": "code",
     "collapsed": false,
     "input": [
      "#The setup\n",
      "import random\n",
      "import sys\n",
      "balls = [x for x in range(12)]\n",
      "weights = [1 for x in range(11)]\n",
      "defect = 0\n",
      "jnd = 0.05 #http://en.wikipedia.org/wiki/Weber%E2%80%93Fechner_law\n",
      "e = sys.float_info.epsilon\n",
      "val = jnd - e\n",
      "while defect == 0: defect = (1 + random.uniform(-val,val))\n",
      "weights.append(defect)\n",
      "a = dict(zip(balls, weights))\n",
      "keys = a.keys()\n",
      "random.shuffle(keys)\n",
      "b = dict(zip(keys, a.values()))"
     ],
     "language": "python",
     "metadata": {},
     "outputs": [],
     "prompt_number": 21
    },
    {
     "cell_type": "code",
     "collapsed": false,
     "input": [
      "# dataframe for recording results\n",
      "import pandas as pd\n",
      "import numpy as np\n",
      "ball_data = pd.DataFrame(index = [k for k,v in sorted(b.iteritems())], columns = ['t1','t2','t3','res'])\n",
      "print ball_data"
     ],
     "language": "python",
     "metadata": {},
     "outputs": [
      {
       "output_type": "stream",
       "stream": "stdout",
       "text": [
        "     t1   t2   t3  res\n",
        "0   NaN  NaN  NaN  NaN\n",
        "1   NaN  NaN  NaN  NaN\n",
        "2   NaN  NaN  NaN  NaN\n",
        "3   NaN  NaN  NaN  NaN\n",
        "4   NaN  NaN  NaN  NaN\n",
        "5   NaN  NaN  NaN  NaN\n",
        "6   NaN  NaN  NaN  NaN\n",
        "7   NaN  NaN  NaN  NaN\n",
        "8   NaN  NaN  NaN  NaN\n",
        "9   NaN  NaN  NaN  NaN\n",
        "10  NaN  NaN  NaN  NaN\n",
        "11  NaN  NaN  NaN  NaN\n"
       ]
      }
     ],
     "prompt_number": 22
    },
    {
     "cell_type": "code",
     "collapsed": false,
     "input": [
      "#scale can tell us either both sides equal, left-side higher or right-side higher\n",
      "\n",
      "def counted(fn):\n",
      "    def wrapper(*args, **kwargs):\n",
      "        wrapper.called+= 1\n",
      "        return fn(*args, **kwargs)\n",
      "    wrapper.called= 0\n",
      "    wrapper.__name__= fn.__name__\n",
      "    return wrapper\n",
      "\n",
      "@counted\n",
      "def scale(leftside, rightside):\n",
      "    group1 = float(sum(leftside.values()))\n",
      "    group2 = float(sum(rightside.values()))\n",
      "    if group1 == group2:\n",
      "        ball_data.loc[reduce(lambda x,y: x+y,[leftside.keys(),rightside.keys()]),['t'+str(scale.called)]] = 0\n",
      "    elif group1 > group2:\n",
      "        ball_data['t'+str(scale.called)] = 0\n",
      "        ball_data.loc[leftside.keys(),['t'+str(scale.called)]] = +1\n",
      "        ball_data.loc[rightside.keys(),['t'+str(scale.called)]] = -1\n",
      "    else:\n",
      "        ball_data['t'+str(scale.called)] = 0\n",
      "        ball_data.loc[leftside.keys(),['t'+str(scale.called)]] = -1\n",
      "        ball_data.loc[rightside.keys(),['t'+str(scale.called)]] = +1   "
     ],
     "language": "python",
     "metadata": {},
     "outputs": [],
     "prompt_number": 23
    },
    {
     "cell_type": "code",
     "collapsed": false,
     "input": [
      "#steps\n",
      "\n",
      "a1 = {k:b[k] for k in ball_data[:4].index}\n",
      "b1 = {k:b[k] for k in ball_data[-4:].index}\n",
      "scale(a1,b1)\n",
      "ball_data.loc[((ball_data==0).any(axis=1) ) ] =0\n",
      " \n",
      "if len(ball_data[ball_data.res.isnull()]) <=4:\n",
      "    a2 = {k:b[k] for k in ball_data[ball_data.res.isnull()][:3].index}\n",
      "    b2 = {k:b[k] for k in ball_data[~ball_data.res.isnull()][:3].index}\n",
      "else:\n",
      "    low = ball_data[ball_data.t1 < 0]\n",
      "    high = ball_data[ball_data.t1 > 0]\n",
      "    shuf1 = reduce(lambda x,y: x+y,[low[:2].index.tolist(),high[-1:].index.tolist()])\n",
      "    shuf2 = reduce(lambda x,y: x+y,[high[:1].index.tolist(),low[-2:].index.tolist()])\n",
      "    a2 = {k:b[k] for k in shuf1}\n",
      "    b2 = {k:b[k] for k in shuf2}\n",
      "scale(a2,b2)\n",
      "ball_data.loc[((ball_data==0).any(axis=1) ) | (ball_data.sum(axis=1) == 0),'res'] =0\n",
      "\n",
      "if len(ball_data[ball_data.res.isnull()]) ==3 and len(ball_data[ball_data.t1 == 0]) ==8:\n",
      "    a3 = {k:b[k] for k in ball_data[ball_data.res.isnull()][:1].index}\n",
      "    b3 = {k:b[k] for k in ball_data[ball_data.res.isnull()][-1:].index}\n",
      "elif len(ball_data[ball_data.res.isnull()]) ==4:\n",
      "    low2 = ball_data[(ball_data.t2 < 0) & (ball_data.res.isnull())]\n",
      "    high2 = ball_data[(ball_data.t2 > 0) & (ball_data.res.isnull())]\n",
      "    shuf12 = reduce(lambda x,y: x+y,[low2[:2].index.tolist(),high2[-1:].index.tolist()])\n",
      "    shuf22 = reduce(lambda x,y: x+y,[high2[:1].index.tolist(),low2[-2:].index.tolist()])\n",
      "    a3 = {k:b[k] for k in shuf12}\n",
      "    b3 = {k:b[k] for k in shuf22}\n",
      "elif len(ball_data[ball_data.res.isnull()]) ==3:\n",
      "    shuf3 = reduce(lambda x,y: x+y,[ball_data[ball_data.res.isnull()][:1].index.tolist(),ball_data[ball_data.res.isnull()][-1:].index.tolist()])\n",
      "    a3 = {k:b[k] for k in shuf3}\n",
      "    b3 = {k:b[k] for k in ball_data[~ball_data.res.isnull()][-2:].index}\n",
      "else:\n",
      "    a3 = {k:b[k] for k in ball_data[ball_data.res.isnull()][:1].index}\n",
      "    b3 = {k:b[k] for k in ball_data[~ball_data.res.isnull()][-1:].index}\n",
      "scale(a3,b3)\n",
      "ball_data.loc[((ball_data==0).any(axis=1) ) | (ball_data.sum(axis=1) == 0) | (ball_data.t1 + ball_data.t2 == 0) | (ball_data.t2 + ball_data.t3 == 0),'res'] =0\n",
      "\n",
      "defect = str(ball_data[ball_data.res.isnull()].index.values[0])\n",
      "defect_type = \"heavy\" if ball_data[ball_data.res.isnull()].sum(axis=1).values[0] > 0 else \"light\"\n",
      "print \"Defect is ball # %s.\\nIt is too %s.\\nNumber of scale tests: %s.\" %(defect,defect_type,scale.called)"
     ],
     "language": "python",
     "metadata": {},
     "outputs": [
      {
       "output_type": "stream",
       "stream": "stdout",
       "text": [
        "Defect is ball # 7.\n",
        "It is too light.\n",
        "Number of scale tests: 3.\n"
       ]
      }
     ],
     "prompt_number": 24
    },
    {
     "cell_type": "code",
     "collapsed": false,
     "input": [
      "print b"
     ],
     "language": "python",
     "metadata": {},
     "outputs": [
      {
       "output_type": "stream",
       "stream": "stdout",
       "text": [
        "{0: 1, 1: 1, 2: 1, 3: 1, 4: 1, 5: 1, 6: 1, 7: 0.99284849055394, 8: 1, 9: 1, 10: 1, 11: 1}\n"
       ]
      }
     ],
     "prompt_number": 25
    },
    {
     "cell_type": "code",
     "collapsed": false,
     "input": [],
     "language": "python",
     "metadata": {},
     "outputs": [],
     "prompt_number": 20
    }
  }
 ]
}
